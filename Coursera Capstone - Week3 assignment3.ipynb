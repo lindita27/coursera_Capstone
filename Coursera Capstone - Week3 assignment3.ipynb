{
    "nbformat_minor": 1, 
    "nbformat": 4, 
    "cells": [
        {
            "source": "# Capstone Week 3 Peer Graded Assignment\n*Segmenting and Clustering Neighborhoods in Toronto*", 
            "cell_type": "markdown", 
            "metadata": {
                "collapsed": true
            }
        }, 
        {
            "source": " To create the above dataframe:\n   * The dataframe will consist of three columns: PostalCode, Borough, and Neighborhood\n   * Only process the cells that have an assigned borough. Ignore cells with a borough that is Not assigned.\n   * More than one neighborhood can exist in one postal code area. For example, in the table on the Wikipedia page, you will notice that M5A is listed twice and has two neighborhoods: Harbourfront and Regent Park. These two rows will be combined into one row with the neighborhoods separated with a comma as shown in row 11 in the above table.\n   * If a cell has a borough but a Not assigned neighborhood, then the neighborhood will be the same as the borough. So for the 9th cell in the table on the Wikipedia page, the value of the Borough and the Neighborhood columns will be Queen's Park.*\n   * Clean your Notebook and add Markdown cells to explain your work and any assumptions you are making.\n   * In the last cell of your notebook, use the .shape method to print the number of rows of your dataframe.", 
            "cell_type": "markdown", 
            "metadata": {}
        }, 
        {
            "source": "# 1. Get the Wiki page\n", 
            "cell_type": "markdown", 
            "metadata": {}
        }, 
        {
            "source": "import requests\nwikipedia_link='https://en.wikipedia.org/wiki/List_of_postal_codes_of_Canada:_M'\n\n#Get Wikipedia page is converted to a string\nraw_random_wikipedia_page=requests.get(wikipedia_link)\n\n#extract the XML as a text file a string and assign the result variable page\npage = raw_random_wikipedia_page.text\n#print(page)", 
            "execution_count": 14, 
            "cell_type": "code", 
            "metadata": {}, 
            "outputs": []
        }, 
        {
            "source": "# 2. Exract the postal Codes into a dataframe\n*Print the shape of the dataframe and list the top 10 rows*\n", 
            "cell_type": "markdown", 
            "metadata": {}
        }, 
        {
            "source": "# Extracting the postal codes into dataframe\nimport pandas as pd\nfrom bs4 import BeautifulSoup as bs\nhtml_soup = bs(page,'html.parser')\n#postcode_container=xml_soup.tbody.contents\n#print(postcode_container)\n\ntable_rows = html_soup.find_all('tr')\n#print(table_rows)\nres = []\nfor tr in table_rows:\n    td = tr.find_all('td')\n    row = [tr.text.strip() for tr in td if tr.text.strip()]\n    if row:\n        if str(row).startswith(\"['NL\") or str(row).startswith(\"['A\"):\n            #print(\"#row\")\n            res\n        else:\n            res.append(row)\n#print(res)           \n        \ndf = pd.DataFrame(res, columns=[\"Postcode\", \"Borough\", \"Neighbourhood\"])\nprint(df.shape)\ndf.head(10)\n    ", 
            "execution_count": 15, 
            "cell_type": "code", 
            "metadata": {}, 
            "outputs": [
                {
                    "output_type": "stream", 
                    "text": "(289, 3)\n", 
                    "name": "stdout"
                }, 
                {
                    "output_type": "execute_result", 
                    "execution_count": 15, 
                    "data": {
                        "text/html": "<div>\n<style scoped>\n    .dataframe tbody tr th:only-of-type {\n        vertical-align: middle;\n    }\n\n    .dataframe tbody tr th {\n        vertical-align: top;\n    }\n\n    .dataframe thead th {\n        text-align: right;\n    }\n</style>\n<table border=\"1\" class=\"dataframe\">\n  <thead>\n    <tr style=\"text-align: right;\">\n      <th></th>\n      <th>Postcode</th>\n      <th>Borough</th>\n      <th>Neighbourhood</th>\n    </tr>\n  </thead>\n  <tbody>\n    <tr>\n      <th>0</th>\n      <td>M1A</td>\n      <td>Not assigned</td>\n      <td>Not assigned</td>\n    </tr>\n    <tr>\n      <th>1</th>\n      <td>M2A</td>\n      <td>Not assigned</td>\n      <td>Not assigned</td>\n    </tr>\n    <tr>\n      <th>2</th>\n      <td>M3A</td>\n      <td>North York</td>\n      <td>Parkwoods</td>\n    </tr>\n    <tr>\n      <th>3</th>\n      <td>M4A</td>\n      <td>North York</td>\n      <td>Victoria Village</td>\n    </tr>\n    <tr>\n      <th>4</th>\n      <td>M5A</td>\n      <td>Downtown Toronto</td>\n      <td>Harbourfront</td>\n    </tr>\n    <tr>\n      <th>5</th>\n      <td>M5A</td>\n      <td>Downtown Toronto</td>\n      <td>Regent Park</td>\n    </tr>\n    <tr>\n      <th>6</th>\n      <td>M6A</td>\n      <td>North York</td>\n      <td>Lawrence Heights</td>\n    </tr>\n    <tr>\n      <th>7</th>\n      <td>M6A</td>\n      <td>North York</td>\n      <td>Lawrence Manor</td>\n    </tr>\n    <tr>\n      <th>8</th>\n      <td>M7A</td>\n      <td>Queen's Park</td>\n      <td>Not assigned</td>\n    </tr>\n    <tr>\n      <th>9</th>\n      <td>M8A</td>\n      <td>Not assigned</td>\n      <td>Not assigned</td>\n    </tr>\n  </tbody>\n</table>\n</div>", 
                        "text/plain": "  Postcode           Borough     Neighbourhood\n0      M1A      Not assigned      Not assigned\n1      M2A      Not assigned      Not assigned\n2      M3A        North York         Parkwoods\n3      M4A        North York  Victoria Village\n4      M5A  Downtown Toronto      Harbourfront\n5      M5A  Downtown Toronto       Regent Park\n6      M6A        North York  Lawrence Heights\n7      M6A        North York    Lawrence Manor\n8      M7A      Queen's Park      Not assigned\n9      M8A      Not assigned      Not assigned"
                    }, 
                    "metadata": {}
                }
            ]
        }, 
        {
            "source": "# 3. Format the data frame to remove Boroughs with \"Not assigned\"\n*Print the shape of the formatted dataframe and the top 10 rows*", 
            "cell_type": "markdown", 
            "metadata": {}
        }, 
        {
            "source": "df_formated = df[df.Borough != 'Not assigned']\ndf_formated.shape\ndf_formated.head(10)", 
            "execution_count": 16, 
            "cell_type": "code", 
            "metadata": {}, 
            "outputs": [
                {
                    "output_type": "execute_result", 
                    "execution_count": 16, 
                    "data": {
                        "text/html": "<div>\n<style scoped>\n    .dataframe tbody tr th:only-of-type {\n        vertical-align: middle;\n    }\n\n    .dataframe tbody tr th {\n        vertical-align: top;\n    }\n\n    .dataframe thead th {\n        text-align: right;\n    }\n</style>\n<table border=\"1\" class=\"dataframe\">\n  <thead>\n    <tr style=\"text-align: right;\">\n      <th></th>\n      <th>Postcode</th>\n      <th>Borough</th>\n      <th>Neighbourhood</th>\n    </tr>\n  </thead>\n  <tbody>\n    <tr>\n      <th>2</th>\n      <td>M3A</td>\n      <td>North York</td>\n      <td>Parkwoods</td>\n    </tr>\n    <tr>\n      <th>3</th>\n      <td>M4A</td>\n      <td>North York</td>\n      <td>Victoria Village</td>\n    </tr>\n    <tr>\n      <th>4</th>\n      <td>M5A</td>\n      <td>Downtown Toronto</td>\n      <td>Harbourfront</td>\n    </tr>\n    <tr>\n      <th>5</th>\n      <td>M5A</td>\n      <td>Downtown Toronto</td>\n      <td>Regent Park</td>\n    </tr>\n    <tr>\n      <th>6</th>\n      <td>M6A</td>\n      <td>North York</td>\n      <td>Lawrence Heights</td>\n    </tr>\n    <tr>\n      <th>7</th>\n      <td>M6A</td>\n      <td>North York</td>\n      <td>Lawrence Manor</td>\n    </tr>\n    <tr>\n      <th>8</th>\n      <td>M7A</td>\n      <td>Queen's Park</td>\n      <td>Not assigned</td>\n    </tr>\n    <tr>\n      <th>10</th>\n      <td>M9A</td>\n      <td>Etobicoke</td>\n      <td>Islington Avenue</td>\n    </tr>\n    <tr>\n      <th>11</th>\n      <td>M1B</td>\n      <td>Scarborough</td>\n      <td>Rouge</td>\n    </tr>\n    <tr>\n      <th>12</th>\n      <td>M1B</td>\n      <td>Scarborough</td>\n      <td>Malvern</td>\n    </tr>\n  </tbody>\n</table>\n</div>", 
                        "text/plain": "   Postcode           Borough     Neighbourhood\n2       M3A        North York         Parkwoods\n3       M4A        North York  Victoria Village\n4       M5A  Downtown Toronto      Harbourfront\n5       M5A  Downtown Toronto       Regent Park\n6       M6A        North York  Lawrence Heights\n7       M6A        North York    Lawrence Manor\n8       M7A      Queen's Park      Not assigned\n10      M9A         Etobicoke  Islington Avenue\n11      M1B       Scarborough             Rouge\n12      M1B       Scarborough           Malvern"
                    }, 
                    "metadata": {}
                }
            ]
        }, 
        {
            "source": "# 4. Combine rows for similar postal code\n*More than one neighborhood can exist in one postal code area*", 
            "cell_type": "markdown", 
            "metadata": {}
        }, 
        {
            "source": "df_sorted = df_formated.sort_values(by='Postcode').reset_index()\ndel df_sorted['index']\n#print(df_sorted.head(11))\nprint(\"************New Line************\")\ndf_sorted = df_sorted.groupby(['Postcode','Borough'])['Neighbourhood'].apply(', '.join).reset_index()\ndf_sorted.head(11)\n\n\n    ", 
            "execution_count": 18, 
            "cell_type": "code", 
            "metadata": {}, 
            "outputs": [
                {
                    "output_type": "stream", 
                    "text": "************New Line************\n", 
                    "name": "stdout"
                }, 
                {
                    "output_type": "execute_result", 
                    "execution_count": 18, 
                    "data": {
                        "text/html": "<div>\n<style scoped>\n    .dataframe tbody tr th:only-of-type {\n        vertical-align: middle;\n    }\n\n    .dataframe tbody tr th {\n        vertical-align: top;\n    }\n\n    .dataframe thead th {\n        text-align: right;\n    }\n</style>\n<table border=\"1\" class=\"dataframe\">\n  <thead>\n    <tr style=\"text-align: right;\">\n      <th></th>\n      <th>Postcode</th>\n      <th>Borough</th>\n      <th>Neighbourhood</th>\n    </tr>\n  </thead>\n  <tbody>\n    <tr>\n      <th>0</th>\n      <td>M1B</td>\n      <td>Scarborough</td>\n      <td>Rouge, Malvern</td>\n    </tr>\n    <tr>\n      <th>1</th>\n      <td>M1C</td>\n      <td>Scarborough</td>\n      <td>Port Union, Rouge Hill, Highland Creek</td>\n    </tr>\n    <tr>\n      <th>2</th>\n      <td>M1E</td>\n      <td>Scarborough</td>\n      <td>Guildwood, Morningside, West Hill</td>\n    </tr>\n    <tr>\n      <th>3</th>\n      <td>M1G</td>\n      <td>Scarborough</td>\n      <td>Woburn</td>\n    </tr>\n    <tr>\n      <th>4</th>\n      <td>M1H</td>\n      <td>Scarborough</td>\n      <td>Cedarbrae</td>\n    </tr>\n    <tr>\n      <th>5</th>\n      <td>M1J</td>\n      <td>Scarborough</td>\n      <td>Scarborough Village</td>\n    </tr>\n    <tr>\n      <th>6</th>\n      <td>M1K</td>\n      <td>Scarborough</td>\n      <td>East Birchmount Park, Ionview, Kennedy Park</td>\n    </tr>\n    <tr>\n      <th>7</th>\n      <td>M1L</td>\n      <td>Scarborough</td>\n      <td>Golden Mile, Oakridge, Clairlea</td>\n    </tr>\n    <tr>\n      <th>8</th>\n      <td>M1M</td>\n      <td>Scarborough</td>\n      <td>Cliffcrest, Scarborough Village West, Cliffside</td>\n    </tr>\n    <tr>\n      <th>9</th>\n      <td>M1N</td>\n      <td>Scarborough</td>\n      <td>Cliffside West, Birch Cliff</td>\n    </tr>\n    <tr>\n      <th>10</th>\n      <td>M1P</td>\n      <td>Scarborough</td>\n      <td>Wexford Heights, Dorset Park, Scarborough Town...</td>\n    </tr>\n  </tbody>\n</table>\n</div>", 
                        "text/plain": "   Postcode      Borough                                      Neighbourhood\n0       M1B  Scarborough                                     Rouge, Malvern\n1       M1C  Scarborough             Port Union, Rouge Hill, Highland Creek\n2       M1E  Scarborough                  Guildwood, Morningside, West Hill\n3       M1G  Scarborough                                             Woburn\n4       M1H  Scarborough                                          Cedarbrae\n5       M1J  Scarborough                                Scarborough Village\n6       M1K  Scarborough        East Birchmount Park, Ionview, Kennedy Park\n7       M1L  Scarborough                    Golden Mile, Oakridge, Clairlea\n8       M1M  Scarborough    Cliffcrest, Scarborough Village West, Cliffside\n9       M1N  Scarborough                        Cliffside West, Birch Cliff\n10      M1P  Scarborough  Wexford Heights, Dorset Park, Scarborough Town..."
                    }, 
                    "metadata": {}
                }
            ]
        }, 
        {
            "source": "# 5. Format dataframe to update Neighbourhood value\n*If a cell has a borough but a Not assigned neighborhood, then the neighborhood will be the same as the borough. *", 
            "cell_type": "markdown", 
            "metadata": {}
        }, 
        {
            "source": "print(\"************New Line************\")\nprint(df_sorted.loc[(df_sorted['Borough'] != 'Not assigned') & (df_sorted['Neighbourhood'] == 'Not assigned')])   \n\nfor index, row in df_sorted.iterrows():\n    \n    if (df_sorted.loc[index,'Borough'] != 'Not assigned') & (df_sorted.loc[index,'Neighbourhood'] == 'Not assigned'):\n        print(\"************New Line************\")\n        Borough = df_sorted.loc[index,'Borough']\n        print('Borough: ', Borough)\n        df_sorted.loc[index,'Neighbourhood'] = Borough\n        #print(df_sorted)\n                      \n#print(df_sorted.loc[(df_sorted['Postcode'] == 'M7A')]\ndf_sorted.head(10)\n                                                               ", 
            "execution_count": 21, 
            "cell_type": "code", 
            "metadata": {}, 
            "outputs": [
                {
                    "output_type": "stream", 
                    "text": "************New Line************\nEmpty DataFrame\nColumns: [Postcode, Borough, Neighbourhood]\nIndex: []\n", 
                    "name": "stdout"
                }, 
                {
                    "output_type": "execute_result", 
                    "execution_count": 21, 
                    "data": {
                        "text/html": "<div>\n<style scoped>\n    .dataframe tbody tr th:only-of-type {\n        vertical-align: middle;\n    }\n\n    .dataframe tbody tr th {\n        vertical-align: top;\n    }\n\n    .dataframe thead th {\n        text-align: right;\n    }\n</style>\n<table border=\"1\" class=\"dataframe\">\n  <thead>\n    <tr style=\"text-align: right;\">\n      <th></th>\n      <th>Postcode</th>\n      <th>Borough</th>\n      <th>Neighbourhood</th>\n    </tr>\n  </thead>\n  <tbody>\n    <tr>\n      <th>0</th>\n      <td>M1B</td>\n      <td>Scarborough</td>\n      <td>Rouge, Malvern</td>\n    </tr>\n    <tr>\n      <th>1</th>\n      <td>M1C</td>\n      <td>Scarborough</td>\n      <td>Port Union, Rouge Hill, Highland Creek</td>\n    </tr>\n    <tr>\n      <th>2</th>\n      <td>M1E</td>\n      <td>Scarborough</td>\n      <td>Guildwood, Morningside, West Hill</td>\n    </tr>\n    <tr>\n      <th>3</th>\n      <td>M1G</td>\n      <td>Scarborough</td>\n      <td>Woburn</td>\n    </tr>\n    <tr>\n      <th>4</th>\n      <td>M1H</td>\n      <td>Scarborough</td>\n      <td>Cedarbrae</td>\n    </tr>\n    <tr>\n      <th>5</th>\n      <td>M1J</td>\n      <td>Scarborough</td>\n      <td>Scarborough Village</td>\n    </tr>\n    <tr>\n      <th>6</th>\n      <td>M1K</td>\n      <td>Scarborough</td>\n      <td>East Birchmount Park, Ionview, Kennedy Park</td>\n    </tr>\n    <tr>\n      <th>7</th>\n      <td>M1L</td>\n      <td>Scarborough</td>\n      <td>Golden Mile, Oakridge, Clairlea</td>\n    </tr>\n    <tr>\n      <th>8</th>\n      <td>M1M</td>\n      <td>Scarborough</td>\n      <td>Cliffcrest, Scarborough Village West, Cliffside</td>\n    </tr>\n    <tr>\n      <th>9</th>\n      <td>M1N</td>\n      <td>Scarborough</td>\n      <td>Cliffside West, Birch Cliff</td>\n    </tr>\n  </tbody>\n</table>\n</div>", 
                        "text/plain": "  Postcode      Borough                                    Neighbourhood\n0      M1B  Scarborough                                   Rouge, Malvern\n1      M1C  Scarborough           Port Union, Rouge Hill, Highland Creek\n2      M1E  Scarborough                Guildwood, Morningside, West Hill\n3      M1G  Scarborough                                           Woburn\n4      M1H  Scarborough                                        Cedarbrae\n5      M1J  Scarborough                              Scarborough Village\n6      M1K  Scarborough      East Birchmount Park, Ionview, Kennedy Park\n7      M1L  Scarborough                  Golden Mile, Oakridge, Clairlea\n8      M1M  Scarborough  Cliffcrest, Scarborough Village West, Cliffside\n9      M1N  Scarborough                      Cliffside West, Birch Cliff"
                    }, 
                    "metadata": {}
                }
            ]
        }, 
        {
            "source": "# 6. Display the size of the dataframe\n*In the last cell of your notebook, use the .shape method to print the number of rows of your dataframe*", 
            "cell_type": "markdown", 
            "metadata": {}
        }, 
        {
            "source": "print(df_sorted.shape)", 
            "execution_count": 20, 
            "cell_type": "code", 
            "metadata": {}, 
            "outputs": [
                {
                    "output_type": "stream", 
                    "text": "(103, 3)\n", 
                    "name": "stdout"
                }
            ]
        }, 
        {
            "source": "", 
            "execution_count": null, 
            "cell_type": "code", 
            "metadata": {}, 
            "outputs": []
        }
    ], 
    "metadata": {
        "kernelspec": {
            "name": "python3", 
            "display_name": "Python 3.5 with Spark", 
            "language": "python3"
        }, 
        "language_info": {
            "nbconvert_exporter": "python", 
            "mimetype": "text/x-python", 
            "version": "3.5.4", 
            "pygments_lexer": "ipython3", 
            "name": "python", 
            "file_extension": ".py", 
            "codemirror_mode": {
                "version": 3, 
                "name": "ipython"
            }
        }
    }
}