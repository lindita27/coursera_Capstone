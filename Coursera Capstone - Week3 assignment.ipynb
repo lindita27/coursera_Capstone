{
    "metadata": {
        "language_info": {
            "codemirror_mode": {
                "name": "ipython", 
                "version": 3
            }, 
            "name": "python", 
            "mimetype": "text/x-python", 
            "nbconvert_exporter": "python", 
            "file_extension": ".py", 
            "version": "3.5.4", 
            "pygments_lexer": "ipython3"
        }, 
        "kernelspec": {
            "name": "python3", 
            "display_name": "Python 3.5 with Spark", 
            "language": "python3"
        }
    }, 
    "cells": [
        {
            "source": "# Capstone Week 3 Peer Graded Assignment\n*Segmenting and Clustering Neighborhoods in Toronto*", 
            "cell_type": "markdown", 
            "metadata": {
                "collapsed": true
            }
        }, 
        {
            "source": " To create the above dataframe:\n   * The dataframe will consist of three columns: PostalCode, Borough, and Neighborhood\n   * Only process the cells that have an assigned borough. Ignore cells with a borough that is Not assigned.\n   * More than one neighborhood can exist in one postal code area. For example, in the table on the Wikipedia page, you will notice that M5A is listed twice and has two neighborhoods: Harbourfront and Regent Park. These two rows will be combined into one row with the neighborhoods separated with a comma as shown in row 11 in the above table.\n   * If a cell has a borough but a Not assigned neighborhood, then the neighborhood will be the same as the borough. So for the 9th cell in the table on the Wikipedia page, the value of the Borough and the Neighborhood columns will be Queen's Park.*\n   * Clean your Notebook and add Markdown cells to explain your work and any assumptions you are making.\n   * In the last cell of your notebook, use the .shape method to print the number of rows of your dataframe.", 
            "cell_type": "markdown", 
            "metadata": {}
        }, 
        {
            "source": "# 1. Get the Wiki page\n", 
            "cell_type": "markdown", 
            "metadata": {}
        }, 
        {
            "source": "import requests\nwikipedia_link='https://en.wikipedia.org/wiki/List_of_postal_codes_of_Canada:_M'\n\n#Get Wikipedia page is converted to a string\nraw_random_wikipedia_page=requests.get(wikipedia_link)\n\n#extract the XML as a text file a string and assign the result variable page\npage = raw_random_wikipedia_page.text\n#print(page)", 
            "execution_count": 1, 
            "metadata": {}, 
            "cell_type": "code", 
            "outputs": [
                {
                    "name": "stdout", 
                    "output_type": "stream", 
                    "text": "Waiting for a Spark session to start...\nSpark Initialization Done! ApplicationId = app-20181102115600-0000\n"
                }
            ]
        }, 
        {
            "source": "# 2. Exract the postal Codes into a dataframe\n*Print the shape of the dataframe and list the top 10 rows*\n", 
            "cell_type": "markdown", 
            "metadata": {}
        }, 
        {
            "source": "# Extracting the postal codes into dataframe\nimport pandas as pd\nfrom bs4 import BeautifulSoup as bs\nhtml_soup = bs(page,'html.parser')\n#postcode_container=xml_soup.tbody.contents\n#print(postcode_container)\n\ntable_rows = html_soup.find_all('tr')\n#print(table_rows)\nres = []\nfor tr in table_rows:\n    td = tr.find_all('td')\n    row = [tr.text.strip() for tr in td if tr.text.strip()]\n    if row:\n        if str(row).startswith(\"['NL\") or str(row).startswith(\"['A\"):\n            #print(\"#row\")\n            res\n        else:\n            res.append(row)\n#print(res)           \n        \ndf = pd.DataFrame(res, columns=[\"Postcode\", \"Borough\", \"Neighbourhood\"])\nprint(df.shape)\nprint(df.head(10))\n    ", 
            "execution_count": 2, 
            "metadata": {}, 
            "cell_type": "code", 
            "outputs": [
                {
                    "name": "stdout", 
                    "output_type": "stream", 
                    "text": "(289, 3)\n  Postcode           Borough     Neighbourhood\n0      M1A      Not assigned      Not assigned\n1      M2A      Not assigned      Not assigned\n2      M3A        North York         Parkwoods\n3      M4A        North York  Victoria Village\n4      M5A  Downtown Toronto      Harbourfront\n5      M5A  Downtown Toronto       Regent Park\n6      M6A        North York  Lawrence Heights\n7      M6A        North York    Lawrence Manor\n8      M7A      Queen's Park      Not assigned\n9      M8A      Not assigned      Not assigned\n"
                }
            ]
        }, 
        {
            "source": "# 3. Format the data frame to remove Boroughs with \"Not assigned\"\n*Print the shape of the formatted dataframe and the top 10 rows*", 
            "cell_type": "markdown", 
            "metadata": {}
        }, 
        {
            "source": "df_formated = df[df.Borough != 'Not assigned']\nprint(df_formated.shape)\nprint(df_formated.head(10))", 
            "execution_count": 3, 
            "metadata": {}, 
            "cell_type": "code", 
            "outputs": [
                {
                    "name": "stdout", 
                    "output_type": "stream", 
                    "text": "(212, 3)\n   Postcode           Borough     Neighbourhood\n2       M3A        North York         Parkwoods\n3       M4A        North York  Victoria Village\n4       M5A  Downtown Toronto      Harbourfront\n5       M5A  Downtown Toronto       Regent Park\n6       M6A        North York  Lawrence Heights\n7       M6A        North York    Lawrence Manor\n8       M7A      Queen's Park      Not assigned\n10      M9A         Etobicoke  Islington Avenue\n11      M1B       Scarborough             Rouge\n12      M1B       Scarborough           Malvern\n"
                }
            ]
        }, 
        {
            "source": "# 4. Combine rows for similar postal code\n*More than one neighborhood can exist in one postal code area*", 
            "cell_type": "markdown", 
            "metadata": {}
        }, 
        {
            "source": "df_sorted = df.sort_values(by='Postcode').reset_index()\ndel df_sorted['index']\n#print(df_sorted.head(11))\nprint(\"************New Line************\")\ndf_sorted = df_sorted.groupby(['Postcode','Borough'])['Neighbourhood'].apply(', '.join).reset_index()\nprint(df_sorted.head(11))\n\n\n    ", 
            "execution_count": 4, 
            "metadata": {}, 
            "cell_type": "code", 
            "outputs": [
                {
                    "name": "stdout", 
                    "output_type": "stream", 
                    "text": "************New Line************\n   Postcode       Borough                                    Neighbourhood\n0       M1A  Not assigned                                     Not assigned\n1       M1B   Scarborough                                   Malvern, Rouge\n2       M1C   Scarborough           Port Union, Rouge Hill, Highland Creek\n3       M1E   Scarborough                West Hill, Morningside, Guildwood\n4       M1G   Scarborough                                           Woburn\n5       M1H   Scarborough                                        Cedarbrae\n6       M1J   Scarborough                              Scarborough Village\n7       M1K   Scarborough      East Birchmount Park, Ionview, Kennedy Park\n8       M1L   Scarborough                  Oakridge, Golden Mile, Clairlea\n9       M1M   Scarborough  Cliffcrest, Cliffside, Scarborough Village West\n10      M1N   Scarborough                      Cliffside West, Birch Cliff\n"
                }
            ]
        }, 
        {
            "source": "# 5. Format dataframe to update Neighbourhood value\n*If a cell has a borough but a Not assigned neighborhood, then the neighborhood will be the same as the borough. *", 
            "cell_type": "markdown", 
            "metadata": {}
        }, 
        {
            "source": "print(\"************New Line************\")\nprint(df_sorted.loc[(df_sorted['Borough'] != 'Not assigned') & (df_sorted['Neighbourhood'] == 'Not assigned')])   \n\nfor index, row in df_sorted.iterrows():\n    \n    if (df_sorted.loc[index,'Borough'] != 'Not assigned') & (df_sorted.loc[index,'Neighbourhood'] == 'Not assigned'):\n        print(\"************New Line************\")\n        Borough = df_sorted.loc[index,'Borough']\n        print('Borough: ', Borough)\n        df_sorted.loc[index,'Neighbourhood'] = Borough\n        #print(df_sorted)\n                      \nprint(df_sorted.loc[(df_sorted['Postcode'] == 'M7A')])\n                                                               ", 
            "execution_count": 8, 
            "metadata": {}, 
            "cell_type": "code", 
            "outputs": [
                {
                    "name": "stdout", 
                    "output_type": "stream", 
                    "text": "************New Line************\nEmpty DataFrame\nColumns: [Postcode, Borough, Neighbourhood]\nIndex: []\n    Postcode       Borough Neighbourhood\n120      M7A  Queen's Park  Queen's Park\n"
                }
            ]
        }, 
        {
            "source": "# 6. Display the size of the dataframe\n*In the last cell of your notebook, use the .shape method to print the number of rows of your dataframe*", 
            "cell_type": "markdown", 
            "metadata": {}
        }, 
        {
            "source": "print(df.shape)", 
            "execution_count": 9, 
            "metadata": {}, 
            "cell_type": "code", 
            "outputs": [
                {
                    "name": "stdout", 
                    "output_type": "stream", 
                    "text": "(289, 3)\n"
                }
            ]
        }
    ], 
    "nbformat": 4, 
    "nbformat_minor": 1
}