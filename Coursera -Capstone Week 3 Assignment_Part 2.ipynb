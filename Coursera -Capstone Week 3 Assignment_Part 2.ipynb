{
    "nbformat": 4, 
    "nbformat_minor": 1, 
    "cells": [
        {
            "source": "# 1. Get the previous data", 
            "cell_type": "markdown", 
            "metadata": {}
        }, 
        {
            "execution_count": 31, 
            "metadata": {}, 
            "outputs": [
                {
                    "text": "    PostalCode       Borough Neighbourhood\n120        M7A  Queen's Park  Not assigned\n  PostalCode       Borough                                    Neighbourhood\n0        M1A  Not assigned                                     Not assigned\n1        M1B   Scarborough                                   Malvern, Rouge\n2        M1C   Scarborough           Port Union, Rouge Hill, Highland Creek\n3        M1E   Scarborough                West Hill, Morningside, Guildwood\n4        M1G   Scarborough                                           Woburn\n5        M1H   Scarborough                                        Cedarbrae\n6        M1J   Scarborough                              Scarborough Village\n7        M1K   Scarborough      East Birchmount Park, Ionview, Kennedy Park\n8        M1L   Scarborough                  Oakridge, Golden Mile, Clairlea\n9        M1M   Scarborough  Cliffcrest, Cliffside, Scarborough Village West\n", 
                    "name": "stdout", 
                    "output_type": "stream"
                }
            ], 
            "cell_type": "code", 
            "source": "import requests\nwikipedia_link='https://en.wikipedia.org/wiki/List_of_postal_codes_of_Canada:_M'\n#Get Wikipedia page is converted to a string\nraw_random_wikipedia_page=requests.get(wikipedia_link)\n#extract the XML as a text file a string and assign the result variable page\npage = raw_random_wikipedia_page.text\n# Extracting the postal codes into dataframe\nimport pandas as pd\nfrom bs4 import BeautifulSoup as bs\nhtml_soup = bs(page,'html.parser')\ntable_rows = html_soup.find_all('tr')\n\nres = []\nfor tr in table_rows:\n    td = tr.find_all('td')\n    row = [tr.text.strip() for tr in td if tr.text.strip()]\n    if row:\n        if str(row).startswith(\"['NL\") or str(row).startswith(\"['A\"):\n            res\n        else:\n            res.append(row)\n        \ndf = pd.DataFrame(res, columns=[\"PostalCode\", \"Borough\", \"Neighbourhood\"])\n#df_sorted = pd.DataFrame(res, columns=[\"PostalCode\", \"Borough\", \"Neighbourhood\"])\ndf_sorted = df.sort_values(by='PostalCode').reset_index()\ndel df_sorted['index']\n\ndf_sorted = df_sorted.groupby(['PostalCode','Borough'])['Neighbourhood'].apply(', '.join).reset_index()\n\nprint(df_sorted.loc[(df_sorted['Borough'] != 'Not assigned') & (df_sorted['Neighbourhood'] == 'Not assigned')])   \n\nfor index, row in df_sorted.iterrows():\n    \n    if (df_sorted.loc[index,'Borough'] != 'Not assigned') & (df_sorted.loc[index,'Neighbourhood'] == 'Not assigned'):\n        Borough = df_sorted.loc[index,'Borough']\n        df_sorted.loc[index,'Neighbourhood'] = Borough\n                      \nprint (df_sorted.head(10))"
        }, 
        {
            "source": "# 2.  get the geographical coordinates of the neighborhoods in the Toronto\n*imported the CSV into dataframe*", 
            "cell_type": "markdown", 
            "metadata": {
                "collapsed": true
            }
        }, 
        {
            "execution_count": 32, 
            "metadata": {}, 
            "outputs": [
                {
                    "text": "  Postal Code   Latitude  Longitude\n0         M1B  43.806686 -79.194353\n1         M1C  43.784535 -79.160497\n2         M1E  43.763573 -79.188711\n3         M1G  43.770992 -79.216917\n4         M1H  43.773136 -79.239476\n  PostalCode   Latitude  Longitude\n0        M1B  43.806686 -79.194353\n1        M1C  43.784535 -79.160497\n2        M1E  43.763573 -79.188711\n3        M1G  43.770992 -79.216917\n4        M1H  43.773136 -79.239476\n", 
                    "name": "stdout", 
                    "output_type": "stream"
                }
            ], 
            "cell_type": "code", 
            "source": "website_URL = \"https://cocl.us/Geospatial_data\"\n    \ndf_geo = pd.read_csv(website_URL)\nprint(df_geo.head(5))\n\ndf_geo.rename(columns = {'Postal Code':'PostalCode'}, inplace = True)\nprint(df_geo.head(5))"
        }, 
        {
            "execution_count": 33, 
            "metadata": {}, 
            "outputs": [
                {
                    "text": "  PostalCode      Borough                                    Neighbourhood  \\\n0        M1B  Scarborough                                   Malvern, Rouge   \n1        M1C  Scarborough           Port Union, Rouge Hill, Highland Creek   \n2        M1E  Scarborough                West Hill, Morningside, Guildwood   \n3        M1G  Scarborough                                           Woburn   \n4        M1H  Scarborough                                        Cedarbrae   \n5        M1J  Scarborough                              Scarborough Village   \n6        M1K  Scarborough      East Birchmount Park, Ionview, Kennedy Park   \n7        M1L  Scarborough                  Oakridge, Golden Mile, Clairlea   \n8        M1M  Scarborough  Cliffcrest, Cliffside, Scarborough Village West   \n9        M1N  Scarborough                      Cliffside West, Birch Cliff   \n\n    Latitude  Longitude  \n0  43.806686 -79.194353  \n1  43.784535 -79.160497  \n2  43.763573 -79.188711  \n3  43.770992 -79.216917  \n4  43.773136 -79.239476  \n5  43.744734 -79.239476  \n6  43.727929 -79.262029  \n7  43.711112 -79.284577  \n8  43.716316 -79.239476  \n9  43.692657 -79.264848  \n", 
                    "name": "stdout", 
                    "output_type": "stream"
                }
            ], 
            "cell_type": "code", 
            "source": "df_postal = df_sorted.merge(df_geo, on=\"PostalCode\", how = 'inner')\nprint (df_postal.head(10))"
        }, 
        {
            "execution_count": null, 
            "metadata": {}, 
            "outputs": [], 
            "cell_type": "code", 
            "source": ""
        }
    ], 
    "metadata": {
        "language_info": {
            "pygments_lexer": "ipython3", 
            "mimetype": "text/x-python", 
            "name": "python", 
            "version": "3.5.4", 
            "nbconvert_exporter": "python", 
            "file_extension": ".py", 
            "codemirror_mode": {
                "name": "ipython", 
                "version": 3
            }
        }, 
        "kernelspec": {
            "language": "python3", 
            "display_name": "Python 3.5 with Spark", 
            "name": "python3"
        }
    }
}